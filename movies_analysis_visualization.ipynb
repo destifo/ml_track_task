{
  "cells": [
    {
      "cell_type": "code",
      "execution_count": 2,
      "metadata": {
        "id": "GwTZgPOyDTsp"
      },
      "outputs": [],
      "source": [
        "import pandas as pd\n",
        "import io"
      ]
    },
    {
      "cell_type": "code",
      "execution_count": 3,
      "metadata": {
        "colab": {
          "base_uri": "https://localhost:8080/",
          "height": 73
        },
        "id": "3lNDPiWeDdRT",
        "outputId": "0613e0c0-1cfc-4f7d-951f-18b16b674e6e"
      },
      "outputs": [
        {
          "ename": "ModuleNotFoundError",
          "evalue": "No module named 'google'",
          "output_type": "error",
          "traceback": [
            "\u001b[0;31m---------------------------------------------------------------------------\u001b[0m",
            "\u001b[0;31mModuleNotFoundError\u001b[0m                       Traceback (most recent call last)",
            "Cell \u001b[0;32mIn[3], line 1\u001b[0m\n\u001b[0;32m----> 1\u001b[0m \u001b[39mfrom\u001b[39;00m \u001b[39mgoogle\u001b[39;00m\u001b[39m.\u001b[39;00m\u001b[39mcolab\u001b[39;00m \u001b[39mimport\u001b[39;00m files\n\u001b[1;32m      2\u001b[0m uploaded \u001b[39m=\u001b[39m files\u001b[39m.\u001b[39mupload()\n",
            "\u001b[0;31mModuleNotFoundError\u001b[0m: No module named 'google'"
          ]
        }
      ],
      "source": [
        "from google.colab import files\n",
        "uploaded = files.upload()"
      ]
    },
    {
      "cell_type": "code",
      "execution_count": null,
      "metadata": {
        "id": "WoyAYv7xHq01"
      },
      "outputs": [],
      "source": [
        "csv_file = io.BytesIO(uploaded['imdb_top_1000.csv'])"
      ]
    },
    {
      "cell_type": "code",
      "execution_count": null,
      "metadata": {
        "id": "1AQFX3AaFaAz"
      },
      "outputs": [],
      "source": [
        "movie_dataframe = pd.read_csv(csv_file)"
      ]
    },
    {
      "cell_type": "code",
      "execution_count": null,
      "metadata": {
        "colab": {
          "base_uri": "https://localhost:8080/",
          "height": 721
        },
        "id": "nHpNjwyxFiFE",
        "outputId": "3c3ad6eb-1ccc-45e5-b690-d2ad25d2d743"
      },
      "outputs": [
        {
          "data": {
            "text/html": [
              "\n",
              "  <div id=\"df-e893e1da-e4d2-4110-b55d-5b6cc49e152e\">\n",
              "    <div class=\"colab-df-container\">\n",
              "      <div>\n",
              "<style scoped>\n",
              "    .dataframe tbody tr th:only-of-type {\n",
              "        vertical-align: middle;\n",
              "    }\n",
              "\n",
              "    .dataframe tbody tr th {\n",
              "        vertical-align: top;\n",
              "    }\n",
              "\n",
              "    .dataframe thead th {\n",
              "        text-align: right;\n",
              "    }\n",
              "</style>\n",
              "<table border=\"1\" class=\"dataframe\">\n",
              "  <thead>\n",
              "    <tr style=\"text-align: right;\">\n",
              "      <th></th>\n",
              "      <th>Poster_Link</th>\n",
              "      <th>Series_Title</th>\n",
              "      <th>Released_Year</th>\n",
              "      <th>Certificate</th>\n",
              "      <th>Runtime</th>\n",
              "      <th>Genre</th>\n",
              "      <th>IMDB_Rating</th>\n",
              "      <th>Overview</th>\n",
              "      <th>Meta_score</th>\n",
              "      <th>Director</th>\n",
              "      <th>Star1</th>\n",
              "      <th>Star2</th>\n",
              "      <th>Star3</th>\n",
              "      <th>Star4</th>\n",
              "      <th>No_of_Votes</th>\n",
              "      <th>Gross</th>\n",
              "    </tr>\n",
              "  </thead>\n",
              "  <tbody>\n",
              "    <tr>\n",
              "      <th>0</th>\n",
              "      <td>https://m.media-amazon.com/images/M/MV5BMDFkYT...</td>\n",
              "      <td>The Shawshank Redemption</td>\n",
              "      <td>1994</td>\n",
              "      <td>A</td>\n",
              "      <td>142 min</td>\n",
              "      <td>Drama</td>\n",
              "      <td>9.3</td>\n",
              "      <td>Two imprisoned men bond over a number of years...</td>\n",
              "      <td>80.0</td>\n",
              "      <td>Frank Darabont</td>\n",
              "      <td>Tim Robbins</td>\n",
              "      <td>Morgan Freeman</td>\n",
              "      <td>Bob Gunton</td>\n",
              "      <td>William Sadler</td>\n",
              "      <td>2343110</td>\n",
              "      <td>28,341,469</td>\n",
              "    </tr>\n",
              "    <tr>\n",
              "      <th>1</th>\n",
              "      <td>https://m.media-amazon.com/images/M/MV5BM2MyNj...</td>\n",
              "      <td>The Godfather</td>\n",
              "      <td>1972</td>\n",
              "      <td>A</td>\n",
              "      <td>175 min</td>\n",
              "      <td>Crime, Drama</td>\n",
              "      <td>9.2</td>\n",
              "      <td>An organized crime dynasty's aging patriarch t...</td>\n",
              "      <td>100.0</td>\n",
              "      <td>Francis Ford Coppola</td>\n",
              "      <td>Marlon Brando</td>\n",
              "      <td>Al Pacino</td>\n",
              "      <td>James Caan</td>\n",
              "      <td>Diane Keaton</td>\n",
              "      <td>1620367</td>\n",
              "      <td>134,966,411</td>\n",
              "    </tr>\n",
              "    <tr>\n",
              "      <th>2</th>\n",
              "      <td>https://m.media-amazon.com/images/M/MV5BMTMxNT...</td>\n",
              "      <td>The Dark Knight</td>\n",
              "      <td>2008</td>\n",
              "      <td>UA</td>\n",
              "      <td>152 min</td>\n",
              "      <td>Action, Crime, Drama</td>\n",
              "      <td>9.0</td>\n",
              "      <td>When the menace known as the Joker wreaks havo...</td>\n",
              "      <td>84.0</td>\n",
              "      <td>Christopher Nolan</td>\n",
              "      <td>Christian Bale</td>\n",
              "      <td>Heath Ledger</td>\n",
              "      <td>Aaron Eckhart</td>\n",
              "      <td>Michael Caine</td>\n",
              "      <td>2303232</td>\n",
              "      <td>534,858,444</td>\n",
              "    </tr>\n",
              "    <tr>\n",
              "      <th>3</th>\n",
              "      <td>https://m.media-amazon.com/images/M/MV5BMWMwMG...</td>\n",
              "      <td>The Godfather: Part II</td>\n",
              "      <td>1974</td>\n",
              "      <td>A</td>\n",
              "      <td>202 min</td>\n",
              "      <td>Crime, Drama</td>\n",
              "      <td>9.0</td>\n",
              "      <td>The early life and career of Vito Corleone in ...</td>\n",
              "      <td>90.0</td>\n",
              "      <td>Francis Ford Coppola</td>\n",
              "      <td>Al Pacino</td>\n",
              "      <td>Robert De Niro</td>\n",
              "      <td>Robert Duvall</td>\n",
              "      <td>Diane Keaton</td>\n",
              "      <td>1129952</td>\n",
              "      <td>57,300,000</td>\n",
              "    </tr>\n",
              "    <tr>\n",
              "      <th>4</th>\n",
              "      <td>https://m.media-amazon.com/images/M/MV5BMWU4N2...</td>\n",
              "      <td>12 Angry Men</td>\n",
              "      <td>1957</td>\n",
              "      <td>U</td>\n",
              "      <td>96 min</td>\n",
              "      <td>Crime, Drama</td>\n",
              "      <td>9.0</td>\n",
              "      <td>A jury holdout attempts to prevent a miscarria...</td>\n",
              "      <td>96.0</td>\n",
              "      <td>Sidney Lumet</td>\n",
              "      <td>Henry Fonda</td>\n",
              "      <td>Lee J. Cobb</td>\n",
              "      <td>Martin Balsam</td>\n",
              "      <td>John Fiedler</td>\n",
              "      <td>689845</td>\n",
              "      <td>4,360,000</td>\n",
              "    </tr>\n",
              "  </tbody>\n",
              "</table>\n",
              "</div>\n",
              "      <button class=\"colab-df-convert\" onclick=\"convertToInteractive('df-e893e1da-e4d2-4110-b55d-5b6cc49e152e')\"\n",
              "              title=\"Convert this dataframe to an interactive table.\"\n",
              "              style=\"display:none;\">\n",
              "        \n",
              "  <svg xmlns=\"http://www.w3.org/2000/svg\" height=\"24px\"viewBox=\"0 0 24 24\"\n",
              "       width=\"24px\">\n",
              "    <path d=\"M0 0h24v24H0V0z\" fill=\"none\"/>\n",
              "    <path d=\"M18.56 5.44l.94 2.06.94-2.06 2.06-.94-2.06-.94-.94-2.06-.94 2.06-2.06.94zm-11 1L8.5 8.5l.94-2.06 2.06-.94-2.06-.94L8.5 2.5l-.94 2.06-2.06.94zm10 10l.94 2.06.94-2.06 2.06-.94-2.06-.94-.94-2.06-.94 2.06-2.06.94z\"/><path d=\"M17.41 7.96l-1.37-1.37c-.4-.4-.92-.59-1.43-.59-.52 0-1.04.2-1.43.59L10.3 9.45l-7.72 7.72c-.78.78-.78 2.05 0 2.83L4 21.41c.39.39.9.59 1.41.59.51 0 1.02-.2 1.41-.59l7.78-7.78 2.81-2.81c.8-.78.8-2.07 0-2.86zM5.41 20L4 18.59l7.72-7.72 1.47 1.35L5.41 20z\"/>\n",
              "  </svg>\n",
              "      </button>\n",
              "      \n",
              "  <style>\n",
              "    .colab-df-container {\n",
              "      display:flex;\n",
              "      flex-wrap:wrap;\n",
              "      gap: 12px;\n",
              "    }\n",
              "\n",
              "    .colab-df-convert {\n",
              "      background-color: #E8F0FE;\n",
              "      border: none;\n",
              "      border-radius: 50%;\n",
              "      cursor: pointer;\n",
              "      display: none;\n",
              "      fill: #1967D2;\n",
              "      height: 32px;\n",
              "      padding: 0 0 0 0;\n",
              "      width: 32px;\n",
              "    }\n",
              "\n",
              "    .colab-df-convert:hover {\n",
              "      background-color: #E2EBFA;\n",
              "      box-shadow: 0px 1px 2px rgba(60, 64, 67, 0.3), 0px 1px 3px 1px rgba(60, 64, 67, 0.15);\n",
              "      fill: #174EA6;\n",
              "    }\n",
              "\n",
              "    [theme=dark] .colab-df-convert {\n",
              "      background-color: #3B4455;\n",
              "      fill: #D2E3FC;\n",
              "    }\n",
              "\n",
              "    [theme=dark] .colab-df-convert:hover {\n",
              "      background-color: #434B5C;\n",
              "      box-shadow: 0px 1px 3px 1px rgba(0, 0, 0, 0.15);\n",
              "      filter: drop-shadow(0px 1px 2px rgba(0, 0, 0, 0.3));\n",
              "      fill: #FFFFFF;\n",
              "    }\n",
              "  </style>\n",
              "\n",
              "      <script>\n",
              "        const buttonEl =\n",
              "          document.querySelector('#df-e893e1da-e4d2-4110-b55d-5b6cc49e152e button.colab-df-convert');\n",
              "        buttonEl.style.display =\n",
              "          google.colab.kernel.accessAllowed ? 'block' : 'none';\n",
              "\n",
              "        async function convertToInteractive(key) {\n",
              "          const element = document.querySelector('#df-e893e1da-e4d2-4110-b55d-5b6cc49e152e');\n",
              "          const dataTable =\n",
              "            await google.colab.kernel.invokeFunction('convertToInteractive',\n",
              "                                                     [key], {});\n",
              "          if (!dataTable) return;\n",
              "\n",
              "          const docLinkHtml = 'Like what you see? Visit the ' +\n",
              "            '<a target=\"_blank\" href=https://colab.research.google.com/notebooks/data_table.ipynb>data table notebook</a>'\n",
              "            + ' to learn more about interactive tables.';\n",
              "          element.innerHTML = '';\n",
              "          dataTable['output_type'] = 'display_data';\n",
              "          await google.colab.output.renderOutput(dataTable, element);\n",
              "          const docLink = document.createElement('div');\n",
              "          docLink.innerHTML = docLinkHtml;\n",
              "          element.appendChild(docLink);\n",
              "        }\n",
              "      </script>\n",
              "    </div>\n",
              "  </div>\n",
              "  "
            ],
            "text/plain": [
              "                                         Poster_Link  \\\n",
              "0  https://m.media-amazon.com/images/M/MV5BMDFkYT...   \n",
              "1  https://m.media-amazon.com/images/M/MV5BM2MyNj...   \n",
              "2  https://m.media-amazon.com/images/M/MV5BMTMxNT...   \n",
              "3  https://m.media-amazon.com/images/M/MV5BMWMwMG...   \n",
              "4  https://m.media-amazon.com/images/M/MV5BMWU4N2...   \n",
              "\n",
              "               Series_Title Released_Year Certificate  Runtime  \\\n",
              "0  The Shawshank Redemption          1994           A  142 min   \n",
              "1             The Godfather          1972           A  175 min   \n",
              "2           The Dark Knight          2008          UA  152 min   \n",
              "3    The Godfather: Part II          1974           A  202 min   \n",
              "4              12 Angry Men          1957           U   96 min   \n",
              "\n",
              "                  Genre  IMDB_Rating  \\\n",
              "0                 Drama          9.3   \n",
              "1          Crime, Drama          9.2   \n",
              "2  Action, Crime, Drama          9.0   \n",
              "3          Crime, Drama          9.0   \n",
              "4          Crime, Drama          9.0   \n",
              "\n",
              "                                            Overview  Meta_score  \\\n",
              "0  Two imprisoned men bond over a number of years...        80.0   \n",
              "1  An organized crime dynasty's aging patriarch t...       100.0   \n",
              "2  When the menace known as the Joker wreaks havo...        84.0   \n",
              "3  The early life and career of Vito Corleone in ...        90.0   \n",
              "4  A jury holdout attempts to prevent a miscarria...        96.0   \n",
              "\n",
              "               Director           Star1           Star2          Star3  \\\n",
              "0        Frank Darabont     Tim Robbins  Morgan Freeman     Bob Gunton   \n",
              "1  Francis Ford Coppola   Marlon Brando       Al Pacino     James Caan   \n",
              "2     Christopher Nolan  Christian Bale    Heath Ledger  Aaron Eckhart   \n",
              "3  Francis Ford Coppola       Al Pacino  Robert De Niro  Robert Duvall   \n",
              "4          Sidney Lumet     Henry Fonda     Lee J. Cobb  Martin Balsam   \n",
              "\n",
              "            Star4  No_of_Votes        Gross  \n",
              "0  William Sadler      2343110   28,341,469  \n",
              "1    Diane Keaton      1620367  134,966,411  \n",
              "2   Michael Caine      2303232  534,858,444  \n",
              "3    Diane Keaton      1129952   57,300,000  \n",
              "4    John Fiedler       689845    4,360,000  "
            ]
          },
          "execution_count": 63,
          "metadata": {},
          "output_type": "execute_result"
        }
      ],
      "source": [
        "movie_dataframe.head()"
      ]
    },
    {
      "cell_type": "markdown",
      "metadata": {
        "id": "19ow_-TS4wQx"
      },
      "source": [
        "## Questions\n",
        "- What are the column names in the dataset?\n",
        "- What is the average rating of the movies?\n",
        "- How many unique genres are there?"
      ]
    },
    {
      "cell_type": "code",
      "execution_count": null,
      "metadata": {
        "id": "6p9DtzO_FnoD"
      },
      "outputs": [],
      "source": [
        "answers = {}"
      ]
    },
    {
      "cell_type": "code",
      "execution_count": null,
      "metadata": {
        "colab": {
          "base_uri": "https://localhost:8080/"
        },
        "id": "BFJjNQ7z5QQ6",
        "outputId": "511d59eb-7a78-4387-c196-9c0a2dc2bbfd"
      },
      "outputs": [
        {
          "name": "stdout",
          "output_type": "stream",
          "text": [
            "The columns of this dataset are: ['Poster_Link', 'Series_Title', 'Released_Year', 'Certificate', 'Runtime', 'Genre', 'IMDB_Rating', 'Overview', 'Meta_score', 'Director', 'Star1', 'Star2', 'Star3', 'Star4', 'No_of_Votes', 'Gross']\n"
          ]
        }
      ],
      "source": [
        "columns = [column for column in movie_dataframe.columns]\n",
        "answers[\"columns\"] = [\"columns\", columns]\n",
        "print(\"The columns of this dataset are:\", columns)"
      ]
    },
    {
      "cell_type": "code",
      "execution_count": null,
      "metadata": {
        "colab": {
          "base_uri": "https://localhost:8080/"
        },
        "id": "vzEfw8975dj_",
        "outputId": "a4076fdb-7e42-4ff8-97b0-80e3e50a3264"
      },
      "outputs": [
        {
          "name": "stdout",
          "output_type": "stream",
          "text": [
            "Average rating of the movies is: 7.949299999999999\n"
          ]
        }
      ],
      "source": [
        "average_rating = movie_dataframe[\"IMDB_Rating\"].mean()\n",
        "answers[\"average rating\"] = [\"Average rating\", average_rating]\n",
        "print(\"Average rating of the movies is:\", average_rating)"
      ]
    },
    {
      "cell_type": "code",
      "execution_count": null,
      "metadata": {
        "colab": {
          "base_uri": "https://localhost:8080/"
        },
        "id": "bmtvNcJsFlJU",
        "outputId": "f60b7baf-2924-4089-bad0-345ec1e6f690"
      },
      "outputs": [
        {
          "name": "stdout",
          "output_type": "stream",
          "text": [
            "The count of the unique genres in this dataset is: 202\n"
          ]
        }
      ],
      "source": [
        "genres_count = movie_dataframe[\"Genre\"].nunique()\n",
        "answers[\"Genres count\"] = [\"Genres\", genres_count]\n",
        "print(\"The count of the unique genres in this dataset is:\", genres_count)"
      ]
    },
    {
      "cell_type": "code",
      "execution_count": null,
      "metadata": {
        "colab": {
          "base_uri": "https://localhost:8080/",
          "height": 17
        },
        "id": "ur-FzH6s7yTP",
        "outputId": "6ad72c7c-5382-4356-a481-80efa650ec09"
      },
      "outputs": [
        {
          "data": {
            "application/javascript": "\n    async function download(id, filename, size) {\n      if (!google.colab.kernel.accessAllowed) {\n        return;\n      }\n      const div = document.createElement('div');\n      const label = document.createElement('label');\n      label.textContent = `Downloading \"${filename}\": `;\n      div.appendChild(label);\n      const progress = document.createElement('progress');\n      progress.max = size;\n      div.appendChild(progress);\n      document.body.appendChild(div);\n\n      const buffers = [];\n      let downloaded = 0;\n\n      const channel = await google.colab.kernel.comms.open(id);\n      // Send a message to notify the kernel that we're ready.\n      channel.send({})\n\n      for await (const message of channel.messages) {\n        // Send a message to notify the kernel that we're ready.\n        channel.send({})\n        if (message.buffers) {\n          for (const buffer of message.buffers) {\n            buffers.push(buffer);\n            downloaded += buffer.byteLength;\n            progress.value = downloaded;\n          }\n        }\n      }\n      const blob = new Blob(buffers, {type: 'application/binary'});\n      const a = document.createElement('a');\n      a.href = window.URL.createObjectURL(blob);\n      a.download = filename;\n      div.appendChild(a);\n      a.click();\n      div.remove();\n    }\n  ",
            "text/plain": [
              "<IPython.core.display.Javascript object>"
            ]
          },
          "metadata": {},
          "output_type": "display_data"
        },
        {
          "data": {
            "application/javascript": "download(\"download_7b154e60-6229-4293-9478-b20a7a5264a4\", \"answer.csv\", 255)",
            "text/plain": [
              "<IPython.core.display.Javascript object>"
            ]
          },
          "metadata": {},
          "output_type": "display_data"
        }
      ],
      "source": [
        "answer_dataframe = pd.DataFrame(answers)\n",
        "answer_dataframe = answer_dataframe.T\n",
        "answer_dataframe.to_csv(\"answer.csv\", index=False)\n",
        "files.download(\"answer.csv\")"
      ]
    },
    {
      "cell_type": "code",
      "execution_count": null,
      "metadata": {
        "id": "phAwQtP49nYY"
      },
      "outputs": [],
      "source": [
        "import matplotlib.pyplot as plt\n",
        "import numpy as np"
      ]
    },
    {
      "cell_type": "markdown",
      "metadata": {
        "id": "uKl4yA8zBTMI"
      },
      "source": [
        "## Plotting Tasks\n",
        "- Plot a histogram of the genre distribution of the movies. How many movies from each genre are there in this list.\n",
        "- Plot a scatterplot in this dataset for the number of movies vs year (Each year, how many movies made to this top 1000 list?)"
      ]
    },
    {
      "cell_type": "code",
      "execution_count": null,
      "metadata": {
        "id": "CqA2s4WzBMLx"
      },
      "outputs": [],
      "source": [
        "# some preprocessing before visualization\n",
        "\n",
        "genres = movie_dataframe[\"Genre\"]\n",
        "genre_list = [genre.split(', ') for genre in genres]\n",
        "flat_genre_list = list(np.concatenate(genre_list).flat)\n",
        "genre_series = pd.Series(flat_genre_list)"
      ]
    },
    {
      "cell_type": "code",
      "execution_count": null,
      "metadata": {
        "colab": {
          "base_uri": "https://localhost:8080/",
          "height": 518
        },
        "id": "4NWioaIhD4be",
        "outputId": "dc1652a7-169b-4656-db53-9f00bc7b9cfd"
      },
      "outputs": [
        {
          "data": {
            "image/png": "[encoded data removed]",
            "text/plain": [
              "<Figure size 640x480 with 1 Axes>"
            ]
          },
          "metadata": {},
          "output_type": "display_data"
        }
      ],
      "source": [
        "# visualization part\n",
        "\n",
        "plt.hist(genre_series, bins=10)\n",
        "plt.xlabel('Genre')\n",
        "plt.ylabel('Count')\n",
        "plt.title('Genre Distribution')\n",
        "plt.xticks(rotation=45)\n",
        "plt.show()"
      ]
    },
    {
      "cell_type": "code",
      "execution_count": null,
      "metadata": {
        "colab": {
          "base_uri": "https://localhost:8080/",
          "height": 708
        },
        "id": "ibMfuCTMEA3c",
        "outputId": "2dedcb37-2640-400f-9e64-a5f654d2f891"
      },
      "outputs": [
        {
          "data": {
            "text/html": [
              "\n",
              "  <div id=\"df-fc3be886-5140-4f12-81bb-f178a4d3d520\">\n",
              "    <div class=\"colab-df-container\">\n",
              "      <div>\n",
              "<style scoped>\n",
              "    .dataframe tbody tr th:only-of-type {\n",
              "        vertical-align: middle;\n",
              "    }\n",
              "\n",
              "    .dataframe tbody tr th {\n",
              "        vertical-align: top;\n",
              "    }\n",
              "\n",
              "    .dataframe thead th {\n",
              "        text-align: right;\n",
              "    }\n",
              "</style>\n",
              "<table border=\"1\" class=\"dataframe\">\n",
              "  <thead>\n",
              "    <tr style=\"text-align: right;\">\n",
              "      <th></th>\n",
              "      <th>Count</th>\n",
              "    </tr>\n",
              "  </thead>\n",
              "  <tbody>\n",
              "    <tr>\n",
              "      <th>Drama</th>\n",
              "      <td>724</td>\n",
              "    </tr>\n",
              "    <tr>\n",
              "      <th>Crime</th>\n",
              "      <td>209</td>\n",
              "    </tr>\n",
              "    <tr>\n",
              "      <th>Action</th>\n",
              "      <td>189</td>\n",
              "    </tr>\n",
              "    <tr>\n",
              "      <th>Adventure</th>\n",
              "      <td>196</td>\n",
              "    </tr>\n",
              "    <tr>\n",
              "      <th>Biography</th>\n",
              "      <td>109</td>\n",
              "    </tr>\n",
              "    <tr>\n",
              "      <th>History</th>\n",
              "      <td>56</td>\n",
              "    </tr>\n",
              "    <tr>\n",
              "      <th>Sci-Fi</th>\n",
              "      <td>67</td>\n",
              "    </tr>\n",
              "    <tr>\n",
              "      <th>Romance</th>\n",
              "      <td>125</td>\n",
              "    </tr>\n",
              "    <tr>\n",
              "      <th>Western</th>\n",
              "      <td>20</td>\n",
              "    </tr>\n",
              "    <tr>\n",
              "      <th>Fantasy</th>\n",
              "      <td>66</td>\n",
              "    </tr>\n",
              "    <tr>\n",
              "      <th>Comedy</th>\n",
              "      <td>233</td>\n",
              "    </tr>\n",
              "    <tr>\n",
              "      <th>Thriller</th>\n",
              "      <td>137</td>\n",
              "    </tr>\n",
              "    <tr>\n",
              "      <th>Animation</th>\n",
              "      <td>82</td>\n",
              "    </tr>\n",
              "    <tr>\n",
              "      <th>Family</th>\n",
              "      <td>56</td>\n",
              "    </tr>\n",
              "    <tr>\n",
              "      <th>War</th>\n",
              "      <td>51</td>\n",
              "    </tr>\n",
              "    <tr>\n",
              "      <th>Mystery</th>\n",
              "      <td>99</td>\n",
              "    </tr>\n",
              "    <tr>\n",
              "      <th>Music</th>\n",
              "      <td>35</td>\n",
              "    </tr>\n",
              "    <tr>\n",
              "      <th>Horror</th>\n",
              "      <td>32</td>\n",
              "    </tr>\n",
              "    <tr>\n",
              "      <th>Musical</th>\n",
              "      <td>17</td>\n",
              "    </tr>\n",
              "    <tr>\n",
              "      <th>Film-Noir</th>\n",
              "      <td>19</td>\n",
              "    </tr>\n",
              "    <tr>\n",
              "      <th>Sport</th>\n",
              "      <td>19</td>\n",
              "    </tr>\n",
              "  </tbody>\n",
              "</table>\n",
              "</div>\n",
              "      <button class=\"colab-df-convert\" onclick=\"convertToInteractive('df-fc3be886-5140-4f12-81bb-f178a4d3d520')\"\n",
              "              title=\"Convert this dataframe to an interactive table.\"\n",
              "              style=\"display:none;\">\n",
              "        \n",
              "  <svg xmlns=\"http://www.w3.org/2000/svg\" height=\"24px\"viewBox=\"0 0 24 24\"\n",
              "       width=\"24px\">\n",
              "    <path d=\"M0 0h24v24H0V0z\" fill=\"none\"/>\n",
              "    <path d=\"M18.56 5.44l.94 2.06.94-2.06 2.06-.94-2.06-.94-.94-2.06-.94 2.06-2.06.94zm-11 1L8.5 8.5l.94-2.06 2.06-.94-2.06-.94L8.5 2.5l-.94 2.06-2.06.94zm10 10l.94 2.06.94-2.06 2.06-.94-2.06-.94-.94-2.06-.94 2.06-2.06.94z\"/><path d=\"M17.41 7.96l-1.37-1.37c-.4-.4-.92-.59-1.43-.59-.52 0-1.04.2-1.43.59L10.3 9.45l-7.72 7.72c-.78.78-.78 2.05 0 2.83L4 21.41c.39.39.9.59 1.41.59.51 0 1.02-.2 1.41-.59l7.78-7.78 2.81-2.81c.8-.78.8-2.07 0-2.86zM5.41 20L4 18.59l7.72-7.72 1.47 1.35L5.41 20z\"/>\n",
              "  </svg>\n",
              "      </button>\n",
              "      \n",
              "  <style>\n",
              "    .colab-df-container {\n",
              "      display:flex;\n",
              "      flex-wrap:wrap;\n",
              "      gap: 12px;\n",
              "    }\n",
              "\n",
              "    .colab-df-convert {\n",
              "      background-color: #E8F0FE;\n",
              "      border: none;\n",
              "      border-radius: 50%;\n",
              "      cursor: pointer;\n",
              "      display: none;\n",
              "      fill: #1967D2;\n",
              "      height: 32px;\n",
              "      padding: 0 0 0 0;\n",
              "      width: 32px;\n",
              "    }\n",
              "\n",
              "    .colab-df-convert:hover {\n",
              "      background-color: #E2EBFA;\n",
              "      box-shadow: 0px 1px 2px rgba(60, 64, 67, 0.3), 0px 1px 3px 1px rgba(60, 64, 67, 0.15);\n",
              "      fill: #174EA6;\n",
              "    }\n",
              "\n",
              "    [theme=dark] .colab-df-convert {\n",
              "      background-color: #3B4455;\n",
              "      fill: #D2E3FC;\n",
              "    }\n",
              "\n",
              "    [theme=dark] .colab-df-convert:hover {\n",
              "      background-color: #434B5C;\n",
              "      box-shadow: 0px 1px 3px 1px rgba(0, 0, 0, 0.15);\n",
              "      filter: drop-shadow(0px 1px 2px rgba(0, 0, 0, 0.3));\n",
              "      fill: #FFFFFF;\n",
              "    }\n",
              "  </style>\n",
              "\n",
              "      <script>\n",
              "        const buttonEl =\n",
              "          document.querySelector('#df-fc3be886-5140-4f12-81bb-f178a4d3d520 button.colab-df-convert');\n",
              "        buttonEl.style.display =\n",
              "          google.colab.kernel.accessAllowed ? 'block' : 'none';\n",
              "\n",
              "        async function convertToInteractive(key) {\n",
              "          const element = document.querySelector('#df-fc3be886-5140-4f12-81bb-f178a4d3d520');\n",
              "          const dataTable =\n",
              "            await google.colab.kernel.invokeFunction('convertToInteractive',\n",
              "                                                     [key], {});\n",
              "          if (!dataTable) return;\n",
              "\n",
              "          const docLinkHtml = 'Like what you see? Visit the ' +\n",
              "            '<a target=\"_blank\" href=https://colab.research.google.com/notebooks/data_table.ipynb>data table notebook</a>'\n",
              "            + ' to learn more about interactive tables.';\n",
              "          element.innerHTML = '';\n",
              "          dataTable['output_type'] = 'display_data';\n",
              "          await google.colab.output.renderOutput(dataTable, element);\n",
              "          const docLink = document.createElement('div');\n",
              "          docLink.innerHTML = docLinkHtml;\n",
              "          element.appendChild(docLink);\n",
              "        }\n",
              "      </script>\n",
              "    </div>\n",
              "  </div>\n",
              "  "
            ],
            "text/plain": [
              "           Count\n",
              "Drama        724\n",
              "Crime        209\n",
              "Action       189\n",
              "Adventure    196\n",
              "Biography    109\n",
              "History       56\n",
              "Sci-Fi        67\n",
              "Romance      125\n",
              "Western       20\n",
              "Fantasy       66\n",
              "Comedy       233\n",
              "Thriller     137\n",
              "Animation     82\n",
              "Family        56\n",
              "War           51\n",
              "Mystery       99\n",
              "Music         35\n",
              "Horror        32\n",
              "Musical       17\n",
              "Film-Noir     19\n",
              "Sport         19"
            ]
          },
          "execution_count": 72,
          "metadata": {},
          "output_type": "execute_result"
        }
      ],
      "source": [
        "# Number of movies from each genre, \n",
        "from collections import Counter\n",
        "\n",
        "movies_count_by_genre = dict(Counter(flat_genre_list))\n",
        "movie_genre_dataframe = pd.DataFrame.from_dict(movies_count_by_genre, orient='index', columns=['Count'])\n",
        "movie_genre_dataframe"
      ]
    },
    {
      "cell_type": "markdown",
      "metadata": {
        "id": "0txtJt2aFlS1"
      },
      "source": [
        "### Scatter plot for movies vs year"
      ]
    },
    {
      "cell_type": "code",
      "execution_count": null,
      "metadata": {
        "id": "2bqNz85fErrq"
      },
      "outputs": [],
      "source": [
        "# data preprocessing\n",
        "\n",
        "numeric_years = pd.to_numeric(movie_dataframe['Released_Year'], errors='coerce').dropna().astype(int)\n",
        "movies_per_year = numeric_years.groupby(numeric_years).size().reset_index(name='Number_of_Movies')\n",
        "movies_per_year['Year_Range'] = movies_per_year['Released_Year'] // 20 * 20\n",
        "movies_per_range = movies_per_year.groupby('Year_Range')['Number_of_Movies'].mean().reset_index()"
      ]
    },
    {
      "cell_type": "code",
      "execution_count": null,
      "metadata": {
        "colab": {
          "base_uri": "https://localhost:8080/",
          "height": 472
        },
        "id": "MTqh_FoDHRT3",
        "outputId": "cff27c47-83db-4131-cd5b-70894e772531"
      },
      "outputs": [
        {
          "data": {
            "image/png": "[encoded data removed]",
            "text/plain": [
              "<Figure size 640x480 with 1 Axes>"
            ]
          },
          "metadata": {},
          "output_type": "display_data"
        }
      ],
      "source": [
        "plt.scatter(movies_per_range['Year_Range'], movies_per_range['Number_of_Movies'])\n",
        "plt.xlabel('Year Range')\n",
        "plt.ylabel('Number of Movies')\n",
        "plt.title('Number of Movies per Year Range')\n",
        "\n",
        "xticks = range(min(movies_per_range['Year_Range']), max(movies_per_range['Year_Range']) + 1, 20)\n",
        "plt.xticks(xticks, [f'{year}-{year+19}' for year in xticks])\n",
        "\n",
        "plt.show()"
      ]
    },
    {
      "cell_type": "markdown",
      "metadata": {
        "id": "DYFnyFXzKahU"
      },
      "source": [
        "#### ***Note***: The visualization is done using year range, as there was visual clutter on the x-axis without the ranges, the scatter plots show the average for movies in range of 20 years"
      ]
    },
    {
      "cell_type": "code",
      "execution_count": null,
      "metadata": {
        "colab": {
          "base_uri": "https://localhost:8080/"
        },
        "id": "sBZ_peh7HVLg",
        "outputId": "bdc72f0b-f767-46dd-f15a-e3f06a4b26de"
      },
      "outputs": [
        {
          "data": {
            "text/plain": [
              "0      1994\n",
              "1      1972\n",
              "2      2008\n",
              "3      1974\n",
              "4      1957\n",
              "       ... \n",
              "995    1961\n",
              "996    1956\n",
              "997    1953\n",
              "998    1944\n",
              "999    1935\n",
              "Name: Released_Year, Length: 1000, dtype: object"
            ]
          },
          "execution_count": 87,
          "metadata": {},
          "output_type": "execute_result"
        }
      ],
      "source": [
        "movies_years_data = movie_dataframe[\"Released_Year\"]\n",
        "movies_years_data"
      ]
    }
  ],
  "metadata": {
    "colab": {
      "provenance": []
    },
    "kernelspec": {
      "display_name": "Python 3",
      "name": "python3"
    },
    "language_info": {
      "codemirror_mode": {
        "name": "ipython",
        "version": 3
      },
      "file_extension": ".py",
      "mimetype": "text/x-python",
      "name": "python",
      "nbconvert_exporter": "python",
      "pygments_lexer": "ipython3",
      "version": "3.11.3"
    }
  },
  "nbformat": 4,
  "nbformat_minor": 0
}
